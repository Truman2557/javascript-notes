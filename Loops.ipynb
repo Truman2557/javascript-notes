{
 "cells": [
  {
   "cell_type": "markdown",
   "id": "e1fd04bd-54bc-422d-b5dd-c641208ff62a",
   "metadata": {},
   "source": [
    "# Loops in Javascript\n",
    "***\n",
    "Documentation located <a href=\"https://developer.mozilla.org/en-US/docs/Web/JavaScript/Guide/Loops_and_iteration\">Here</a>\n",
    "<br><br>\n",
    "Loops are fundamental constructs in programming used to automate repetitive tasks,thereby making code more efficient and less cluttered. They are particularly useful in various scenarios, such as processing lists or arrays, repeating actions, or handling user inputs. Loops typically utilize an iterator variable, which tracks the state or progress of the loop. This iterator is often integral to the condition that determines when the loop starts and stops. By evaluating this condition, the loop can execute its code block repeatedly until the specified condition is no longer met. <br><br>\n",
    "Iterator variables can have any name, yet often are represented by the letter i or anothershort letter. <br><br>\n",
    "Note that in loops we often have a condition to change or modify the condition. <br><br>\n",
    "Loops, like most logic in programming can be evaluating to True or False ."
   ]
  },
  {
   "cell_type": "markdown",
   "id": "c3c7b8e1-d193-48ad-9e08-22a31e42e496",
   "metadata": {},
   "source": [
    "# Types of Loops\n",
    "***\n",
    "<b>While Loops</b><br><br>\n",
    "A \"While\" Loop is used to repeat a specific block of code an <b>unknown</b> number of times, until a condition is met. For example, if we want to ask a user for a number between 1 and 10, we don't know how many times the user may enter a larger number, so we keep asking \"while\n",
    "the number is not between 1 and 10\". If we (or the computer) knows exactly how many times to execute a section of code (such as shuffling a deck of cards) we use a for loop."
   ]
  },
  {
   "cell_type": "code",
   "execution_count": 1,
   "id": "473bf591-8342-40de-9218-be31a2f49d1d",
   "metadata": {},
   "outputs": [
    {
     "name": "stdout",
     "output_type": "stream",
     "text": [
      "1 Silly looking dogs\n",
      "2 Silly looking dogs\n",
      "3 Silly looking dogs\n",
      "4 Silly looking dogs\n"
     ]
    },
    {
     "data": {
      "text/plain": [
       "4"
      ]
     },
     "execution_count": 1,
     "metadata": {},
     "output_type": "execute_result"
    }
   ],
   "source": [
    "//This loop just counts from 1 to 4 and prints out the loops interator variable value\n",
    "let i =1 \n",
    "while (i<5){\n",
    "    console.log(i + \" Silly looking dogs\");\n",
    "    i++;\n",
    "}"
   ]
  },
  {
   "cell_type": "markdown",
   "id": "44098e2a-c532-48cf-8e21-55ad4393f470",
   "metadata": {},
   "source": [
    "Note: please not the i++ which is incrementing the value of i. Without this, the while loop would be stuck forever, since the condition is not being changed or satisfied. "
   ]
  },
  {
   "cell_type": "code",
   "execution_count": 3,
   "id": "8d0a59af-af82-4569-a08c-034793985310",
   "metadata": {},
   "outputs": [
    {
     "name": "stdout",
     "output_type": "stream",
     "text": [
      "10\n",
      "9\n",
      "8\n",
      "7\n",
      "6\n",
      "5\n",
      "4\n",
      "3\n",
      "2\n",
      "1\n"
     ]
    },
    {
     "data": {
      "text/plain": [
       "1"
      ]
     },
     "execution_count": 3,
     "metadata": {},
     "output_type": "execute_result"
    }
   ],
   "source": [
    "//Counts down from a number. The -- is decrementing the value as opposed to ++\n",
    "let count = 10;\n",
    "while(count>0){\n",
    "    console.log(count);\n",
    "    count--;\n",
    "}"
   ]
  },
  {
   "cell_type": "code",
   "execution_count": 4,
   "id": "89e9b4aa-10c9-4803-b50f-a552217fffc0",
   "metadata": {},
   "outputs": [
    {
     "name": "stdout",
     "output_type": "stream",
     "text": [
      "Sum is:  55\n"
     ]
    }
   ],
   "source": [
    "//Calculates the sum of a number from 1 to 10\n",
    "let sum = 0;\n",
    "let number = 1;\n",
    "while (number<=10){\n",
    "    sum += number; //same as sum = sum + number\n",
    "    number++;\n",
    "}\n",
    "console.log(\"Sum is: \", sum);"
   ]
  },
  {
   "cell_type": "markdown",
   "id": "ff138c33-04ed-44dc-8f04-ebad1086ea6c",
   "metadata": {},
   "source": [
    "<b>For Loops</b><br><br>\n",
    "A \"For\" loop is used to repeat a specific block of code a <b>known</b> number of times. For example, if we want to check the grade of every student in the class, we loop from 1 to that number. When the number of times is not known before hand, we use a \"While\" loop.<br><br>\n",
    "The for loop is used to repeat a section of code known number of times. Sometimes it is the computer that knows how many times, not you, but it is still known. Some examples: <br><br>\n",
    "<i>Unknown number of times:</i> <br><br>\n",
    "\"Ask the User to Guess a pre-determined number between 1 and 100\". You have no way of knowing how many guesses it will take. <br><br>\"Randomly look in an array for a given value.\" You have no way of knowing how many tries it will take to find the actual value. <br><br>\n",
    "<b>Note:</b> this is a made-up example, because you would never randomly look into an array to find a value. You would always start at the front of the array and look one element at a time until you found the item or got to the end of the array.<br><br>\n",
    "<i>Known number of times:</i><br><br>\n",
    "Compute the average grade of the class. While you (the programmer) might not know how many grades exist in the class, the computer will know. Usually this is accomplished by using\n",
    "the \"length\" function on an array.<br><br>\n",
    "Print the odd numbers from 1 to 1001.<br><br>\n",
    "Search a list (array) of numbers for the biggest grade. Again, the computer \"knows\" how many grades there are, so a for loop is appropriate."
   ]
  },
  {
   "cell_type": "code",
   "execution_count": 5,
   "id": "7c8bc4ca-f17e-4a8a-91c5-4f8af981c59a",
   "metadata": {},
   "outputs": [
    {
     "name": "stdout",
     "output_type": "stream",
     "text": [
      "1\n",
      "2\n",
      "3\n",
      "4\n",
      "5\n"
     ]
    }
   ],
   "source": [
    "//Prints out i 5 times\n",
    "for(let i = 1; i<=5; i++){\n",
    "    console.log(i);\n",
    "}"
   ]
  },
  {
   "cell_type": "markdown",
   "id": "71848e59-b224-477b-8087-7d81c8702b64",
   "metadata": {},
   "source": [
    "Note that this will run for aas long as the condition is false, as dictated by the iterator variable. "
   ]
  },
  {
   "cell_type": "code",
   "execution_count": 7,
   "id": "ab0d37c6-33bd-4f31-8e1e-04df85aa4156",
   "metadata": {},
   "outputs": [
    {
     "name": "stdout",
     "output_type": "stream",
     "text": [
      "Pear is located in the list\n"
     ]
    }
   ],
   "source": [
    "//Iterates through a list to check if the specified element is in the list\n",
    "const fruits = [\"Apple\", \"Pear\", \"Cherry\", \"Date\"]\n",
    "\n",
    "for(let i = 0; i<fruits.length;i++){\n",
    "    if(fruits[i] === \"Pear\"){\n",
    "        console.log(\"Pear is located in the list\");\n",
    "    }\n",
    "}"
   ]
  },
  {
   "cell_type": "markdown",
   "id": "add78540-e825-4758-be98-c54b50cad8c5",
   "metadata": {},
   "source": [
    "Note that we can look at the length of the list using the .length() list method. This is an easy way of telling the computer you want the length of the list. We can also use it to see how many items are in the list. Lets look at another example below."
   ]
  },
  {
   "cell_type": "code",
   "execution_count": 8,
   "id": "1c2cdb90-4ab2-4574-8476-97d13083b055",
   "metadata": {},
   "outputs": [
    {
     "name": "stdout",
     "output_type": "stream",
     "text": [
      "3\n"
     ]
    }
   ],
   "source": [
    "let students = [\"Nicole\", \"Kye\", \"Leila\"];\n",
    "console.log(students.length);"
   ]
  },
  {
   "cell_type": "code",
   "execution_count": 18,
   "id": "ca642f6f-5380-4eab-bac0-e41b32b326a1",
   "metadata": {},
   "outputs": [
    {
     "ename": "SyntaxError",
     "evalue": "Identifier 'studentList' has already been declared",
     "execution_count": 18,
     "output_type": "error",
     "traceback": [
      "evalmachine.<anonymous>:1",
      "//Looks through a list of studdents and lists what number each student is",
      "^",
      "",
      "SyntaxError: Identifier 'studentList' has already been declared",
      "    at Script.runInThisContext (node:vm:122:12)",
      "    at Object.runInThisContext (node:vm:296:38)",
      "    at run ([eval]:1020:15)",
      "    at onRunRequest ([eval]:864:18)",
      "    at onMessage ([eval]:828:13)",
      "    at process.emit (node:events:514:28)",
      "    at emit (node:internal/child_process:951:14)",
      "    at process.processTicksAndRejections (node:internal/process/task_queues:83:21)"
     ]
    }
   ],
   "source": [
    "//Looks through a list of studdents and lists what number each student is\n",
    "\n",
    "let studentList = [\"Nicole\", \"Kye\", \"Leila\"];\n",
    "\n",
    "for(let i =0;i < studentList.length;i++){\n",
    "    console.log(studentList[i] + \" is student number \" + (i+1));\n",
    "}"
   ]
  },
  {
   "cell_type": "code",
   "execution_count": 22,
   "id": "7fc22ba8-48e8-447a-aa42-66f15e7ed04d",
   "metadata": {},
   "outputs": [
    {
     "ename": "SyntaxError",
     "evalue": "Identifier 'sum' has already been declared",
     "execution_count": 22,
     "output_type": "error",
     "traceback": [
      "evalmachine.<anonymous>:1",
      "//Sums list items",
      "^",
      "",
      "SyntaxError: Identifier 'sum' has already been declared",
      "    at Script.runInThisContext (node:vm:122:12)",
      "    at Object.runInThisContext (node:vm:296:38)",
      "    at run ([eval]:1020:15)",
      "    at onRunRequest ([eval]:864:18)",
      "    at onMessage ([eval]:828:13)",
      "    at process.emit (node:events:514:28)",
      "    at emit (node:internal/child_process:951:14)",
      "    at process.processTicksAndRejections (node:internal/process/task_queues:83:21)"
     ]
    }
   ],
   "source": [
    "//Sums list items\n",
    "let numbers = [10,20,30,40,50];\n",
    "let sum = 0;\n",
    "for (let i = 0; i< numbers.length;i++){\n",
    "    sum += numbers[i];\n",
    "}\n",
    "console.log(\"Total sum: \", sum);"
   ]
  },
  {
   "cell_type": "markdown",
   "id": "ea469dba-29ff-4f89-bdc8-755607c981cf",
   "metadata": {},
   "source": [
    "<b> Do while loops</b>\n",
    "<br><br>\n",
    "Executes at least once, even if the condition is initially false"
   ]
  },
  {
   "cell_type": "code",
   "execution_count": 23,
   "id": "85acf180-d51b-48b4-b2a7-585920df4e5b",
   "metadata": {},
   "outputs": [
    {
     "name": "stdout",
     "output_type": "stream",
     "text": [
      "User Input:  0.8150861642286684\n"
     ]
    }
   ],
   "source": [
    "//Takes an input then prints out the user input\n",
    "let userInput;\n",
    "do{\n",
    "    userInput = Math.random();\n",
    "    console.log(\"User Input: \", userInput);\n",
    "}while(userInput < 0.5);"
   ]
  },
  {
   "cell_type": "code",
   "execution_count": 24,
   "id": "1b88b3ed-d0a3-4e64-93ca-a040a50beaf8",
   "metadata": {},
   "outputs": [
    {
     "name": "stdout",
     "output_type": "stream",
     "text": [
      "Generated Number:  44\n"
     ]
    }
   ],
   "source": [
    "//Generating a random number until its even\n",
    "let randomNumber;\n",
    "do{\n",
    "    randomNumber = Math.floor(Math.random() * 100);\n",
    "    console.log(\"Generated Number: \", randomNumber);\n",
    "}while (randomNumber % 2 !== 0);"
   ]
  },
  {
   "cell_type": "markdown",
   "id": "58b6e03f-cb29-4c0d-be40-6dc2e7be0150",
   "metadata": {},
   "source": [
    "# Common Mistakes\n",
    "***\n",
    "<b>Infinite Loops</b><br><br>\n",
    "1. Occur when the loops exit condition is never met\n",
    "2. common in while and do while loops if the condition for exiting the loop is not properly updated within the loop<br><br>\n",
    "Example:"
   ]
  },
  {
   "cell_type": "code",
   "execution_count": null,
   "id": "e8344ead-30c0-4567-87da-e32a8762143d",
   "metadata": {},
   "outputs": [],
   "source": [
    "let x = 2;\n",
    "while(x<5){\n",
    "    console.log(\"I will print forever\") //\n",
    "}"
   ]
  },
  {
   "cell_type": "markdown",
   "id": "3098929e-5d05-49b0-b2f7-a8922fa848ce",
   "metadata": {},
   "source": [
    "<b>Off by one errors</b>\n",
    "<br><br>\n",
    "Incorectly setting loop boundaries causing one too many or too few iterations"
   ]
  },
  {
   "cell_type": "code",
   "execution_count": null,
   "id": "cf9e6f81-8711-497f-bcd2-758f527c5bb2",
   "metadata": {},
   "outputs": [],
   "source": [
    "let array = [1,2,3,4,5];\n",
    "for (let i = 0; i <= array.length; i++){\n",
    "    console.log(array[i]);\n",
    "}"
   ]
  },
  {
   "cell_type": "markdown",
   "id": "a38aaca6-e119-418a-bccb-6b4a36247db8",
   "metadata": {},
   "source": [
    "# Best Practices\n",
    "***\n",
    "Clearly Define Loop Conditions: Clearly Define Loop Conditions:\n",
    "Ensure loop conditions are explicit to avoid infinite loops.\n",
    "Regularly update the condition within the loop as needed.\n",
    "Use the Most Appropriate Loop Type:\n",
    "Choose for loops for known iteration counts.\n",
    "Opt for while loops when the number of iterations is not predetermined\n",
    "Use do...while loops when the loop body must execute at least once.\n",
    "Properly Initialize Loop Variables:\n",
    "Declare and initialize all loop control variables clearly\n",
    "Consider the scope of these variables, especially in for loops..\n",
    "Keep Loop Bodies Simple and Clear:\n",
    "Avoid overcomplicating the code inside loops.\n",
    "Strive for readability and maintainability.\n",
    "Avoid 'Magic Numbers':\n",
    "Use named constants or variables instead of hard-coded numbers in loop conditions.\n",
    "This enhances the readability and adaptability of the code.\n",
    "Comment and Document Complex Loops:\n",
    "Provide clear comments for complex loop logic to aid understanding and future\n",
    "maintenance.\n",
    "Describe the purpose and functionality of the loop.\n",
    "Test Loops with Edge Cases:\n",
    "Ensure loops are tested with a variety of inputs, including boundary values and edge\n",
    "cases.\n",
    "This helps to confirm the loop behaves as expected in all scenarios.\n",
    "Refactor and Optimize When Necessary:\n",
    "Revisit and refactor loop logic for efficiency and clarity.\n",
    "Consider alternative approaches if a loop seems overly complex or inefficient\n",
    "Ensure loop conditions are explicit to avoid infinite loops.\n",
    "Regularly uhes if a loop seems overly complex or inefficient."
   ]
  }
 ],
 "metadata": {
  "kernelspec": {
   "display_name": "JavaScript (Node.js)",
   "language": "javascript",
   "name": "javascript"
  },
  "language_info": {
   "file_extension": ".js",
   "mimetype": "application/javascript",
   "name": "javascript",
   "version": "20.8.1"
  }
 },
 "nbformat": 4,
 "nbformat_minor": 5
}
