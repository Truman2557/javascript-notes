{
 "cells": [
  {
   "cell_type": "markdown",
   "id": "6c52ede2-4878-4391-8ded-05deb9c0ba8b",
   "metadata": {},
   "source": [
    "# Functions In Javascript"
   ]
  },
  {
   "cell_type": "markdown",
   "id": "3bfe4325-6ee0-497d-a0aa-b3cf73d6050c",
   "metadata": {},
   "source": [
    "***"
   ]
  },
  {
   "cell_type": "markdown",
   "id": "aa4315d0-1803-409b-bae2-6cae8846eb06",
   "metadata": {},
   "source": [
    "Documentation located <a href=\"https://www.w3schools.com/js/js_functions.asp\">Here</a>"
   ]
  },
  {
   "cell_type": "markdown",
   "id": "b2bb27fe-0251-4051-b973-506b0d1c6241",
   "metadata": {},
   "source": [
    "<b>Functions:</b> Functions are one of the fundamental building blocks in JavaScript. A function in JavaScript is similar to a procedure-- a set of statements that performs a task or calculates a value, but for a procedure to qualify as a function, it should take some input and return an output. Functions are repeatable lines of code that make our programs neater and easier to read and run. "
   ]
  },
  {
   "cell_type": "markdown",
   "id": "4240c7ab-4b45-42e5-b453-42034fe29419",
   "metadata": {},
   "source": [
    "# Definign Functions\n",
    "***"
   ]
  },
  {
   "cell_type": "markdown",
   "id": "cbfd6d95-2bc4-4d0a-8dae-7283c62d2995",
   "metadata": {},
   "source": [
    "In JavaScript, in order to create a function there is a syntax that we use. There are multiple ways to create functions in JavaScript. We will talk about 2 different ways below. <br><br>\n",
    "<b>Funcion Declarations:</b> <br><br>\n",
    "A function definition (also called a function declaration, or function statement) consists of the function keyword, followed by: <br>\n",
    "1. The name of the function\n",
    "2. A list of parameters to the function, enclosed in parentheses and separated commas\n",
    "3. The JavaScript statements that define the function, enclosed in curly braces (/*...*/) <br><br>\n",
    "<i><font color=blue>Example:</font></i>"
   ]
  },
  {
   "cell_type": "code",
   "execution_count": 1,
   "id": "e8c66300-3b79-41a3-b593-b8cab98cf9ca",
   "metadata": {},
   "outputs": [],
   "source": [
    "function square(number){\n",
    "    return number * number;\n",
    "}"
   ]
  },
  {
   "cell_type": "markdown",
   "id": "79b63464-afd4-4bf6-8709-085148f17171",
   "metadata": {},
   "source": [
    "In the example above the function called square takes a single parameter, which is the word enclosed in parenthesis. The function then utilizes the return keyword to pass the result of the parameter out of the function. <br><br>\n",
    "<b>Parameter:</b> A paramter in programming is a named variable used only in a function or method <font color=red>definition</font>. It acts like a variable, a placeholder that recieves and holds the values <font color=red>passed</font> to the function when its <font color=red>called</font>.<br><br>\n",
    "<b>Return: </b> A return statement in a function is an optional statement that exists the funtion and returns a value to the progam, outside of the block of the function. Any code following the return statement is <i>not</i> executed. If a function doesnt have a return statment, or if no return value is specified, the function returns as <i>undefined</i>"
   ]
  },
  {
   "cell_type": "code",
   "execution_count": 2,
   "id": "f47cbe74-1fe3-4df8-8b85-f46aa191bc9f",
   "metadata": {},
   "outputs": [
    {
     "ename": "SyntaxError",
     "evalue": "Unexpected end of input",
     "execution_count": 2,
     "output_type": "error",
     "traceback": [
      "evalmachine.<anonymous>:3",
      "8",
      " ",
      "",
      "SyntaxError: Unexpected end of input",
      "    at new Script (node:vm:93:7)",
      "    at createScript (node:vm:248:10)",
      "    at Object.runInThisContext (node:vm:296:10)",
      "    at run ([eval]:1020:15)",
      "    at onRunRequest ([eval]:864:18)",
      "    at onMessage ([eval]:828:13)",
      "    at process.emit (node:events:514:28)",
      "    at emit (node:internal/child_process:951:14)",
      "    at process.processTicksAndRejections (node:internal/process/task_queues:83:21)"
     ]
    }
   ],
   "source": [
    "function sum(a, b){\n",
    "    return a + b;\n",
    "8"
   ]
  },
  {
   "cell_type": "markdown",
   "id": "bd4b447b-470d-4afc-9cbf-fb051aa612d0",
   "metadata": {},
   "source": [
    "In the function above we are utilizing 2 parameters and simply adding 2 number, A and B. We are then returning the value out of the function. However please note that functions need to have more than a definition which is seen above. We now need to <i>call</i> the function in order to utilize its 8. "
   ]
  },
  {
   "cell_type": "markdown",
   "id": "0d760aaa-f169-4414-bf2c-6c8dd3986f83",
   "metadata": {},
   "source": [
    "# Calling a Function\n",
    "***"
   ]
  },
  {
   "cell_type": "markdown",
   "id": "85083e16-c7e2-48d2-b63f-fc7683825dc3",
   "metadata": {},
   "source": [
    "<b>Funtion Call:</b> A function call is when you call or use the function you have created. Note that when you create a function it does not need to be used right away in a procedural order. You can create it and use it whenever you need, and as many times as needed. Before calling the function you must define it in the steps above. They syntax for calling a function is below. We are using the function definition from the sum function we created above. Note that we are using something called <font color=red>arguments</font> in a function call. <br><br>\n",
    "<b>Argument:</b> An argument is the value we input in the function call that is passed through the function via parameters. In other words the value of arguments are inputs and become the value of parameters in the function definition much like how you assign a variable a value. <b>The position of arguments matter, the arguments fill in the parameters in the order in which they are written. </b> <br><br>\n",
    "<font color=blue>Syntax</font><br><br>\n",
    "function_name(arguments); <br><br>\n",
    "<i><font color=blue>Example</font></i>"
   ]
  },
  {
   "cell_type": "code",
   "execution_count": 3,
   "id": "e6cd9be9-4981-4e4c-864c-7bd4892def50",
   "metadata": {},
   "outputs": [
    {
     "ename": "ReferenceError",
     "evalue": "sum is not defined",
     "execution_count": 3,
     "output_type": "error",
     "traceback": [
      "evalmachine.<anonymous>:1",
      "sum(3,5);",
      "^",
      "",
      "ReferenceError: sum is not defined",
      "    at evalmachine.<anonymous>:1:1",
      "    at Script.runInThisContext (node:vm:122:12)",
      "    at Object.runInThisContext (node:vm:296:38)",
      "    at run ([eval]:1020:15)",
      "    at onRunRequest ([eval]:864:18)",
      "    at onMessage ([eval]:828:13)",
      "    at process.emit (node:events:514:28)",
      "    at emit (node:internal/child_process:951:14)",
      "    at process.processTicksAndRejections (node:internal/process/task_queues:83:21)"
     ]
    }
   ],
   "source": [
    "sum(3,5);"
   ]
  },
  {
   "cell_type": "markdown",
   "id": "a9a6f130-b0cf-4ffe-88bb-fd36560f7f8f",
   "metadata": {},
   "source": [
    "Here is how we can call the square function we defined before in our notes. <br><br>\n",
    "<i><font color=blue>Example:</i></font>"
   ]
  },
  {
   "cell_type": "code",
   "execution_count": 4,
   "id": "f99ed146-fefa-4207-9f1a-5c8ba395d4c8",
   "metadata": {},
   "outputs": [
    {
     "data": {
      "text/plain": [
       "25"
      ]
     },
     "execution_count": 4,
     "metadata": {},
     "output_type": "execute_result"
    }
   ],
   "source": [
    "square(5);"
   ]
  },
  {
   "cell_type": "markdown",
   "id": "6335db7b-9c30-457f-9017-80bc3bc23979",
   "metadata": {},
   "source": [
    "# Function Definitions and Calls\n",
    "***"
   ]
  },
  {
   "cell_type": "markdown",
   "id": "da8c2a83-a0cf-4e3c-9b54-983dabbdfeaf",
   "metadata": {},
   "source": [
    "We always utilize function definitions, calls, parameters, return and arguments together.\n",
    "Parameters, return statements and arguments are always optional. Below are some example\n",
    "are simple functions with their definitions and calls. <b>Note that Jupyter Lab will print these\n",
    "functions by default. You must create print statements / variables to actually see\n",
    "results of your functions in regular JS.</b> <br><br>\n",
    "<i><font color=blue>Example:</font></i>"
   ]
  },
  {
   "cell_type": "code",
   "execution_count": 5,
   "id": "92caf767-5ebf-42f3-b735-bd849ff67e43",
   "metadata": {},
   "outputs": [
    {
     "name": "stdout",
     "output_type": "stream",
     "text": [
      "Hello thereCooper\n"
     ]
    }
   ],
   "source": [
    "function greet(name){\n",
    "    console.log(\"Hello there\" + name);\n",
    "}\n",
    "\n",
    "greet(\"Cooper\");"
   ]
  },
  {
   "cell_type": "code",
   "execution_count": 6,
   "id": "335b6d9b-ff02-4f32-9987-749d32c1532b",
   "metadata": {},
   "outputs": [
    {
     "name": "stdout",
     "output_type": "stream",
     "text": [
      "33\n"
     ]
    }
   ],
   "source": [
    "function ageFinder(dateOfBirth, currentYear){\n",
    "    let age = currentYear - dateOfBirth;\n",
    "    return age;\n",
    "}\n",
    "\n",
    "console.log(ageFinder(1990,2023));"
   ]
  },
  {
   "cell_type": "markdown",
   "id": "e1dfc9d5-05e4-47b0-ac93-11f11a002be5",
   "metadata": {},
   "source": [
    "# Returning vs. console.log() in Functions\n",
    "***\n",
    "Often when starting out we will only need to display the value of the result of the function. We can do this by simply logging the value to the console. However this is often not sufficient for programs. A printed value can only be used in the block. The problem will pop up when trying to use function values elsewhere. Lets take a look at this using a function below. <br><br>\n",
    "<i><font color=blue>Example:</font></i>"
   ]
  },
  {
   "cell_type": "code",
   "execution_count": 7,
   "id": "a6fa7341-f2e7-4c46-bbb6-a092186283fb",
   "metadata": {},
   "outputs": [
    {
     "name": "stdout",
     "output_type": "stream",
     "text": [
      "10\n",
      "NaN\n"
     ]
    }
   ],
   "source": [
    "function printTen(){\n",
    "    console.log(10);\n",
    "}\n",
    "\n",
    "let value = printTen();\n",
    "console.log(value * 2);"
   ]
  },
  {
   "cell_type": "markdown",
   "id": "7db7d809-cdbc-45f0-832f-24f5675d52c2",
   "metadata": {},
   "source": [
    "When we try to use the value from the function we will recieve an error. This is because the value is printed and not returned. If I wanted to use the value from the function elsewhere, then we run into problems. The way we can fix this is by returning values. <br><br>\n",
    "<i><font color=blue>Example:</font></i>"
   ]
  },
  {
   "cell_type": "code",
   "execution_count": 9,
   "id": "8fac78de-c7b8-4609-a469-14488ad7f6c7",
   "metadata": {},
   "outputs": [
    {
     "name": "stdout",
     "output_type": "stream",
     "text": [
      "20\n"
     ]
    }
   ],
   "source": [
    "function returnTen(){\n",
    "    return 10;\n",
    "}\n",
    "\n",
    "returnTen();\n",
    "\n",
    "let returnedValue = returnTen();\n",
    "\n",
    "console.log(returnedValue * 2);"
   ]
  },
  {
   "cell_type": "markdown",
   "id": "b09a01c3-49fc-44de-8836-d2e39de2fcda",
   "metadata": {},
   "source": [
    "# Arrow Functions (A cleaner way of writing functions)\n",
    "***\n",
    "An arrow function is a more concise and cleaner way to write functions. <br><br>\n",
    "<i><font color=blue>Example:</font></i>"
   ]
  },
  {
   "cell_type": "code",
   "execution_count": 12,
   "id": "2ac07825-1b04-49c7-9b58-858c43f49d66",
   "metadata": {},
   "outputs": [
    {
     "ename": "SyntaxError",
     "evalue": "Identifier 'square' has already been declared",
     "execution_count": 12,
     "output_type": "error",
     "traceback": [
      "evalmachine.<anonymous>:1",
      "const square = (number) => {",
      "^",
      "",
      "SyntaxError: Identifier 'square' has already been declared",
      "    at Script.runInThisContext (node:vm:122:12)",
      "    at Object.runInThisContext (node:vm:296:38)",
      "    at run ([eval]:1020:15)",
      "    at onRunRequest ([eval]:864:18)",
      "    at onMessage ([eval]:828:13)",
      "    at process.emit (node:events:514:28)",
      "    at emit (node:internal/child_process:951:14)",
      "    at process.processTicksAndRejections (node:internal/process/task_queues:83:21)"
     ]
    }
   ],
   "source": [
    "const square = (number) => {\n",
    "    return number * number;\n",
    "}"
   ]
  },
  {
   "cell_type": "markdown",
   "id": "f3b3fea2-3b52-49db-a8f3-b42c845a177e",
   "metadata": {},
   "source": [
    "1. The name of the function is preceded by a variable keyword (let or const), then choose a name.\n",
    "2. The parameters are listed in the parenthesis, if no parameters are needed you must include the parenthesis still.\n",
    "3. Use"
   ]
  }
 ],
 "metadata": {
  "kernelspec": {
   "display_name": "JavaScript (Node.js)",
   "language": "javascript",
   "name": "javascript"
  },
  "language_info": {
   "file_extension": ".js",
   "mimetype": "application/javascript",
   "name": "javascript",
   "version": "20.8.1"
  }
 },
 "nbformat": 4,
 "nbformat_minor": 5
}
