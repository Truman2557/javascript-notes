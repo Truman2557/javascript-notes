{
 "cells": [
  {
   "cell_type": "markdown",
   "id": "646e740e-9272-4c96-9037-770b4ad8c93e",
   "metadata": {},
   "source": [
    "# JavaScript Lists(Arrays)"
   ]
  },
  {
   "cell_type": "markdown",
   "id": "5cff4da2-b65b-4d8a-af44-3e812f241005",
   "metadata": {},
   "source": [
    "***"
   ]
  },
  {
   "cell_type": "markdown",
   "id": "3acd4225-4927-47fb-a142-eddbcac1ce8d",
   "metadata": {},
   "source": [
    "Documentation located <a href=\"https://www.google.com/url?q=https://developer.mozilla.org/en-US/docs/Web/JavaScript/Reference/Global_Objects/Array&sa=D&source=apps-viewer-frontend&ust=1702075962088114&usg=AOvVaw1HIJobPo6_wI75wMvzP-0b&hl=en&safe=active&surl=1\">Here</a>\n",
    "<br><br>\n",
    "<b>JavaScript Lists:</b> Commonly referred to as Arrays, are a way to store multiple values in a single variable. Arrays are incredibly useful for managing and manipulating sets of data. "
   ]
  },
  {
   "cell_type": "markdown",
   "id": "0e8635c9-2497-4a93-ab98-1c0e55b3e11c",
   "metadata": {},
   "source": [
    "# Creating and Initializing Arrays\n",
    "***\n",
    "An array can hold a collection of items, which can be of various data types such as strings, numbers, booleans, and even other arrays or objects. <br><br>\n",
    "<b>Syntax:</b><br>\n",
    "To create an array you need to use square brackets []. You can initialize an array with items or start with an empty array. "
   ]
  },
  {
   "cell_type": "code",
   "execution_count": 1,
   "id": "82ff2d07-9a33-43d1-b79a-a9eb34ec41d8",
   "metadata": {},
   "outputs": [],
   "source": [
    "//Initializing an empty array\n",
    "let fruits = [];\n",
    "\n",
    "//Initializing an array with items\n",
    "let colors = [\"red\", \"green\", \"blue\"];"
   ]
  },
  {
   "cell_type": "markdown",
   "id": "c80bdbac-9e89-4318-a774-25bf16a93446",
   "metadata": {},
   "source": [
    "# Accessing Array Elements\n",
    "***\n",
    "Each item in an array has an index starting from 0. You can access an element by using its index inside square brackets. <br><br>\n",
    "<font color=red>IMPORTANT NOTE: THE AP CSP EXAM STARTS INDEXES AT 1 NOT 0, CONTRARY TO MANY PROGRAMMING LANGUAGES</font>"
   ]
  },
  {
   "cell_type": "code",
   "execution_count": 2,
   "id": "5510e7a7-1d57-49b8-b36a-ec77cd5d8aaf",
   "metadata": {},
   "outputs": [
    {
     "name": "stdout",
     "output_type": "stream",
     "text": [
      "red\n"
     ]
    }
   ],
   "source": [
    "let firstColor= colors[0]; //Accessing the first item, \"red\"\n",
    "console.log(firstColor); //Output: \"red\""
   ]
  },
  {
   "cell_type": "markdown",
   "id": "1e2716d0-3750-46d5-9f01-529c6141f7b6",
   "metadata": {},
   "source": [
    "# Modifying Arrays\n",
    "***\n",
    "Arrays are mutable, meaning you can modify them after creation"
   ]
  },
  {
   "cell_type": "code",
   "execution_count": 3,
   "id": "9f289464-e839-4d45-b23e-62e74d5596d2",
   "metadata": {},
   "outputs": [
    {
     "data": {
      "text/plain": [
       "4"
      ]
     },
     "execution_count": 3,
     "metadata": {},
     "output_type": "execute_result"
    }
   ],
   "source": [
    "//Changing an element\n",
    "colors[1] = \"yellow\"; //Changing \"green\" to \"yellow\"\n",
    "\n",
    "//Adding a new element\n",
    "colors.push(\"purple\"); //Adding \"purple\" to the end"
   ]
  },
  {
   "cell_type": "markdown",
   "id": "42f233bd-25f6-4b10-9a8b-3a1bc1859fad",
   "metadata": {},
   "source": [
    "# Array Properties and Methods\n",
    "***\n",
    "Arrays come with various properties and methods for manipulation and inspection. We will mostly need the length property and a variety of methods listed below. <br><br>\n",
    "<b>Lenth Property:</b>\n",
    "<br>\n",
    "The length property outputs the number of items in the array. "
   ]
  },
  {
   "cell_type": "code",
   "execution_count": 4,
   "id": "df2758c9-5583-4bb6-8ebb-e22c3281114c",
   "metadata": {},
   "outputs": [
    {
     "name": "stdout",
     "output_type": "stream",
     "text": [
      "4\n"
     ]
    }
   ],
   "source": [
    "console.log(colors.length); //Output:the number of elements in colors array"
   ]
  },
  {
   "cell_type": "markdown",
   "id": "b5cff713-370e-42d4-b6d0-115ba6ebb54c",
   "metadata": {},
   "source": [
    "<b>Common Array Methods:</b>"
   ]
  },
  {
   "cell_type": "code",
   "execution_count": 7,
   "id": "c9f7c759-ae5a-4860-b6d9-393e62fbf226",
   "metadata": {},
   "outputs": [
    {
     "ename": "SyntaxError",
     "evalue": "Unexpected token ')'",
     "execution_count": 7,
     "output_type": "error",
     "traceback": [
      "evalmachine.<anonymous>:20",
      "array.splice(startIndex, deleteCount, newElement1, newElement2, ...);",
      "                                                                   ^",
      "",
      "SyntaxError: Unexpected token ')'",
      "    at new Script (node:vm:93:7)",
      "    at createScript (node:vm:248:10)",
      "    at Object.runInThisContext (node:vm:296:10)",
      "    at run ([eval]:1020:15)",
      "    at onRunRequest ([eval]:864:18)",
      "    at onMessage ([eval]:828:13)",
      "    at process.emit (node:events:514:28)",
      "    at emit (node:internal/child_process:951:14)",
      "    at process.processTicksAndRejections (node:internal/process/task_queues:83:21)"
     ]
    }
   ],
   "source": [
    "//Adding an element to the end of the array\n",
    "array.push(element);\n",
    "\n",
    "//Removing the last element of the array\n",
    "array.pop();\n",
    "\n",
    "//Adding an element to the begining of the array\n",
    "array.unshift(element);\n",
    "\n",
    "//Removing the first element of the array\n",
    "array.shift();\n",
    "\n",
    "//Finding the index of an element in the array\n",
    "let index = array.indexOf(element);\n",
    "\n",
    "//Removing elements from an array (starting index, number of elements to remove)\n",
    "array.splice(startIndex, deleteCount);\n",
    "\n",
    "//Adding elements to an array (starting index, number of elements to delete)\n",
    "array.splice(startIndex, deleteCount, newElement1, newElement2, ...);\n",
    "\n",
    "// Creating a shallow copy of a part of an array (start index, end index)\n",
    "let newArray = array.slice(startIndex, endIndex);\n",
    "\n",
    "// Joining all elements of an array into a string (separator)\n",
    "let str = array.join(separator);\n",
    "\n",
    "// Reversing the elements in the array\n",
    "array.reverse();\n",
    "\n",
    "// Sorting the elements in the array\n",
    "array.sort();\n",
    "\n",
    "// Iterating over each element in the array\n",
    "array.forEach(function(element, index) {\n",
    "// Code to execute for each element\n",
    "});\n",
    "\n",
    "// Transforming elements in the array and creating a new array\n",
    "let newArray = array.map(function(element, index) {\n",
    "// Return new value for the element\n",
    "});\n",
    "\n",
    "// Filtering elements in the array based on a condition\n",
    "let filteredArray = array.filter(function(element, index) {\n",
    "// Return true to keep the element, false to filter it out\n",
    "});\n",
    "\n",
    "// Checking if any element in the array passes a test\n",
    "let result = array.some(function(element, index) {\n",
    "// Return true or false based on condition\n",
    "});\n",
    "\n",
    "// Checking if all elements in the array pass a test\n",
    "let allPass = array.every(function(element, index) {\n",
    "// Return true or false based on condition\n",
    "});\n",
    "\n",
    "// Reducing the array to a single value\n",
    "let result = array.reduce(function(accumulator, element, index) {\n",
    "// Return updated accumulator\n",
    "}, initialValue);\n",
    "\n",
    "// Finding the first element in the array that satisfies a condition\n",
    "let foundElement = array.find(function(element, index) {\n",
    "// Return true if this is the element you are looking for\n",
    "});\n",
    "\n",
    "// Finding the index of the first element in the array that satisfies a condition\n",
    "let foundIndex = array.findIndex(function(element, index) {\n",
    "// Return true if this is the element you are looking for\n",
    "});\n",
    "\n",
    "// Concatenating multiple arrays\n",
    "let newArray = array1.concat(array2, array3, ...);"
   ]
  },
  {
   "cell_type": "markdown",
   "id": "c9f53abd-650f-4d86-82a4-603b959ef662",
   "metadata": {},
   "source": [
    "# Looping Through Arrays\n",
    "***\n",
    "To iterate over an array you can use loops like for, forEach, for...of"
   ]
  },
  {
   "cell_type": "code",
   "execution_count": 8,
   "id": "79a9422a-2fec-490a-bf03-6bbdf2fa3850",
   "metadata": {},
   "outputs": [
    {
     "name": "stdout",
     "output_type": "stream",
     "text": [
      "red\n",
      "yellow\n",
      "blue\n",
      "purple\n",
      "red\n",
      "yellow\n",
      "blue\n",
      "purple\n"
     ]
    }
   ],
   "source": [
    "//Using forEach\n",
    "colors.forEach(function(color){\n",
    "    console.log(color);\n",
    "});\n",
    "\n",
    "//Using for...of\n",
    "for(let color of colors){\n",
    "    console.log(color);\n",
    "}"
   ]
  },
  {
   "cell_type": "markdown",
   "id": "236b4679-4e4a-4c51-8ab9-765255a3deb4",
   "metadata": {},
   "source": [
    "# Multidimensional Arrays\n",
    "***\n",
    "Arrays can contain other arrays, creating a multidimensional array."
   ]
  },
  {
   "cell_type": "code",
   "execution_count": 9,
   "id": "16f3571e-f90a-4dab-bae2-3d757bb5c0f7",
   "metadata": {},
   "outputs": [
    {
     "name": "stdout",
     "output_type": "stream",
     "text": [
      "6\n"
     ]
    }
   ],
   "source": [
    "let matrix = [\n",
    "    [1, 2, 3],\n",
    "    [4, 5, 6], \n",
    "    [7, 8, 9]\n",
    "];\n",
    "\n",
    "console.log(matrix[1][2]); //Accessing the third element of the second array"
   ]
  },
  {
   "cell_type": "markdown",
   "id": "8a9f1ff4-7524-4dbf-80b9-a85192b3e505",
   "metadata": {},
   "source": [
    "# Use Cases\n",
    "***\n",
    "<b>Data Collection and Management:</b> Arrays are ideal for collecting and managing sets of data, such as user inputs, records from a database, or any set of values. They provide a structured way to store and access this data. <br><br>\n",
    "<b>Data Manipulation:</b> You can perform various operations on array like sorting, filtering, and mapping to manipulate data. For instance, sorting user data based on critera, filtering a list of products based on categories, or transforming data ito a new format for presentation. <br><br>\n",
    "<b>Mathematical Computations:</b> Arrays can store numerical data and are useful in mathematical computations. You can use them for statistical analysis, such as calculating averages, sums, or other compex mathematical operations. <br><br>\n",
    "<b>UI Components</b>: In web development arrays are often used to manage lists of UI elements. For example, displaying a list of items in a dropdown menu, a table of data, or a carousel of images<br><br>\n",
    "<b>Stacks and Queues Implementation:</b> Arrays can be used to implement other data structures like stacks and queues. For example, using push and pop methods for stack operations, and shift and push for queue operations.<br><br>\n",
    "<b>Graphs and Trees Data Structure:</b> Arrays can represent more complex data structures like graphs (as adjacency lists or matrices) and trees (like binary trees, where each element has references to its children). <br><br>\n",
    "<b>Algorithms Implementation:</b> Arrays are fundamental in implementing various algorithms, especially those involving sorting and searching. They are often the underlying data structure used to store data during these operations. <br><br>\n",
    "<b>Combining and Splitting Data:</b> Using methods like concat, slice, and splice, arrays can be easily combined, partitioned, or reordered, which is useful in many applications like data processing or handling user-generated content. <br><br>\n",
    "<b>Temporary Storage: </b>Arrays are useful as a temporary storage mechanism when processing or manipulating data. For example, storing the results of intermediate steps in a complex calculation or algorithm.<br><br>\n",
    "<b>Multi-Dimensional Data:</b> Arrays can store multi-dimensional data, making them useful for scenarios like representing matrices in mathematical computations, pixel data in images, or multi-dimensional maps in games or simulations.<br><br>\n",
    "<b>Functional Programming: </b>Arrays in JavaScript work well with functional programming concepts, using methods like map, filter, reduce, which allow for operations on arrays without mutating them.<br><br>\n",
    "<b>Batch Operations:</b> Performing operations on multiple items at once, like updating a set of records or applying a function across multiple elements."
   ]
  }
 ],
 "metadata": {
  "kernelspec": {
   "display_name": "JavaScript (Node.js)",
   "language": "javascript",
   "name": "javascript"
  },
  "language_info": {
   "file_extension": ".js",
   "mimetype": "application/javascript",
   "name": "javascript",
   "version": "20.8.1"
  }
 },
 "nbformat": 4,
 "nbformat_minor": 5
}
