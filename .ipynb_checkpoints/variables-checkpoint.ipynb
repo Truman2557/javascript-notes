{
 "cells": [
  {
   "cell_type": "code",
   "execution_count": null,
   "id": "421c6364-3a70-4ff6-91ec-f302626b9f0e",
   "metadata": {},
   "outputs": [],
   "source": []
  }
 ],
 "metadata": {
  "kernelspec": {
   "display_name": "JavaScript (Node.js)",
   "language": "javascript",
   "name": "javascript"
  },
  "language_info": {
   "file_extension": ".js",
   "mimetype": "application/javascript",
   "name": "javascript",
   "version": "20.8.1"
  }
 },
 "nbformat": 4,
 "nbformat_minor": 5
}
