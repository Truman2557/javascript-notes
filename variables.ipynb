{
 "cells": [
  {
   "cell_type": "markdown",
   "id": "5586f657-824d-46f8-93ea-8376d3f8f48f",
   "metadata": {},
   "source": [
    "# Variables in Javascript"
   ]
  },
  {
   "cell_type": "markdown",
   "id": "e71e9b06-d11f-42d6-b65d-815faecdbc06",
   "metadata": {},
   "source": [
    "***"
   ]
  },
  {
   "cell_type": "markdown",
   "id": "662b1311-2a3d-4c39-b71a-8aaae8e0eb01",
   "metadata": {},
   "source": [
    "Documentation located <a href=\"https://www.w3schools.com/js/js_variables.asp\">Here</a>"
   ]
  },
  {
   "cell_type": "markdown",
   "id": "a5ba2388-e6cb-464a-ad6c-71100db6a74d",
   "metadata": {},
   "source": [
    "<b>Variables</b> : a containter for storing values. A variable has a name and contains a value. You \"Store\" a variable in memory and it allows you to access, modify, and manipulate that value throughout your program. Variables allow us to write programs in a generic manner, allow us to modify data without needing to modify the code structure. <br> <br>\n",
    "You can store many different data types in variables: Strings, Ints, booleans, floats, doubles, and more. "
   ]
  },
  {
   "cell_type": "markdown",
   "id": "e9d50404-cefe-4487-8176-a5d5dde7db8f",
   "metadata": {},
   "source": [
    "# Variable Declaration & Initialization"
   ]
  },
  {
   "cell_type": "markdown",
   "id": "d523cc2e-d5ca-46cf-8a88-2d38cb3e1c96",
   "metadata": {},
   "source": [
    "***"
   ]
  },
  {
   "cell_type": "markdown",
   "id": "f67bb920-362f-4086-a4c2-7b7ad1999485",
   "metadata": {},
   "source": [
    "Variables can be declared & initialized at the same time or seperately. In order to utilize the variable, both must happen. <br> <br>\n",
    "<b>Variable Declaration</b>: This is the first step to creating a variable. It tells your program that we want to create a variable. In this step the variable has no value. Must declare with var, let, or CONST keywords. Var is outdated, so we do not use it. You will see var used in legacy code as well as in code.org. <br> \n",
    "<i><font color=\"blue\">Example:</font></i> <br>\n",
    "let age; <br>\n",
    "var name; <br>\n",
    "CONST birthday;"
   ]
  },
  {
   "cell_type": "markdown",
   "id": "4eee2464-91ef-4e57-9b8c-07b10ff115bb",
   "metadata": {},
   "source": [
    "<b>Variable Initialization</b>: This is where you give a variable a value for the first time. Variables must be declared before initializing. <br>\n",
    "<i><font color=blue>Example:</font></i> <br>\n",
    "age = 25; <br> \n",
    "name = \"Cooper\"; <br>\n",
    "birthday = 2000;"
   ]
  },
  {
   "cell_type": "markdown",
   "id": "de7fcb93-a8e2-4712-9092-94805010608d",
   "metadata": {},
   "source": [
    "<b>Variable Definition</b>: Variables can be declared and initialized at the same time. We call this <font color=red>\"Variable Definition\".</font> <br>\n",
    "<i><font color=blue>Example:</font></i> <br>\n",
    "let age = 20; <br>\n",
    "var name = \"Cooper\"; <br>\n",
    "CONST birthday = 2002; <br> \n",
    "The equals sign is known as the <font color=red>assignment operator</font> in most programming languages. You must use this to create variables. "
   ]
  },
  {
   "cell_type": "markdown",
   "id": "78207939-34da-4d61-ae9d-947493260593",
   "metadata": {},
   "source": [
    "# Naming Variables"
   ]
  },
  {
   "cell_type": "markdown",
   "id": "c4a2e465-8396-4a4f-b918-3fa90a115550",
   "metadata": {},
   "source": [
    "***"
   ]
  },
  {
   "cell_type": "markdown",
   "id": "621bd48f-cdd1-4996-a1bf-178d34b9ef6e",
   "metadata": {},
   "source": [
    "Variable names are extremely important. Naming conventions vary between languages. Here are some tips: <br> <br>\n",
    "1. Use descriptive names that match the purpose of the variable.\n",
    "2. Use CamelCase when writing multi-word variables (Javascript best practice)\n",
    "3. Avoid symbols and \"reserved\" words, such as: let, for, if, etc. <br>\n",
    "   <font color=red>Never put spaces in variables. A variable can never just be an integer</font> <br> <br>\n",
    "\n",
    "<i><font color=blue>Good Examples:</font></i> <br>\n",
    "let firstName = \"Thomas\"; <br>\n",
    "let numberOfLives = 9; <br>\n",
    "CONST temp = 98; <br>\n",
    "let messageOfTheDay = \"Hello there, welcome to CSP\"; <br>\n",
    "<i><font color=blue>Bad Examples:</font></i> <br>\n",
    "let 2 = 9; <br>\n",
    "let N!M@ = \"john\"; <br>\n",
    "let birthday month = \"December\";"
   ]
  },
  {
   "cell_type": "markdown",
   "id": "5798d0e1-b9a4-4875-aab3-37351777637f",
   "metadata": {},
   "source": [
    "# Using the console.log(); method with Variables"
   ]
  },
  {
   "cell_type": "markdown",
   "id": "7c12d68c-42ff-45b4-955b-7a2fe25411ce",
   "metadata": {},
   "source": [
    "***"
   ]
  },
  {
   "cell_type": "markdown",
   "id": "f51ee673-1107-4c54-bba5-c372676c98fc",
   "metadata": {},
   "source": [
    "We can combine our previous knowlege of the console log method with variables to start to build actual programs. <br> <br>\n",
    "Lets start by defining a variable:"
   ]
  },
  {
   "cell_type": "code",
   "execution_count": 1,
   "id": "d88bdd97-05ed-4be2-a2eb-881ace70fba6",
   "metadata": {},
   "outputs": [],
   "source": [
    "let parentsAge=36;"
   ]
  },
  {
   "cell_type": "markdown",
   "id": "42397880-47cd-4e67-be22-ce1c6b3009bc",
   "metadata": {},
   "source": [
    "Now lets print the age variable to the console. <b>NOTE:</b> In Jupyter we get the output below our cell. If you want to see how this looks in a coding environment you can try this in VSCode."
   ]
  },
  {
   "cell_type": "code",
   "execution_count": 2,
   "id": "8d33d669-80c9-4004-b5b8-dedcd7cdffbb",
   "metadata": {},
   "outputs": [
    {
     "name": "stdout",
     "output_type": "stream",
     "text": [
      "36\n"
     ]
    }
   ],
   "source": [
    "console.log(parentsAge);"
   ]
  },
  {
   "cell_type": "markdown",
   "id": "4dd3b925-f1f1-4f19-90dd-545bc6e99164",
   "metadata": {},
   "source": [
    "See above, when you run the cell (Shift + Enter) the output is not the variable name, but the information stored inside the variable. Below are more examples:"
   ]
  },
  {
   "cell_type": "code",
   "execution_count": 3,
   "id": "665c86a4-6a47-4932-851b-b4b9dbdbd7a3",
   "metadata": {},
   "outputs": [],
   "source": [
    "let birthdayCakeFlavor = \"chocolate\";"
   ]
  },
  {
   "cell_type": "code",
   "execution_count": 4,
   "id": "5f954bbb-7291-4934-9365-f2c7666014d5",
   "metadata": {},
   "outputs": [
    {
     "name": "stdout",
     "output_type": "stream",
     "text": [
      "chocolate\n"
     ]
    }
   ],
   "source": [
    "console.log(birthdayCakeFlavor);"
   ]
  },
  {
   "cell_type": "markdown",
   "id": "8444aeff-dbf3-491c-8dbb-b7a5ad567fed",
   "metadata": {},
   "source": [
    "# Operators"
   ]
  },
  {
   "cell_type": "markdown",
   "id": "bcf9b502-8dd5-4c33-93df-162c905df1a7",
   "metadata": {},
   "source": [
    "***"
   ]
  },
  {
   "cell_type": "markdown",
   "id": "55065bf1-3670-45d4-91e5-12fdb24f0378",
   "metadata": {},
   "source": [
    "Operators are crucial for writing programming language. Operators are special symbols or keywords that can perform operations. Below are the most common types: <br> <br>\n",
    "<b>Arithmetic Operators</b>: Used to perform basic math. <br> \n",
    "<i><font color=blue>Example:</font></i> <br>+ (Add) <br>- (subtract) <br>* (Multiply) <br>\n",
    "/ (Divide) <br>\n",
    "% (Modulo) <br> <br>\n",
    "<b>Comparison Operators</b>: Used to compare values. <br>\n",
    "<i><font color=blue>Example:</font></i> <br>\n",
    "=== (Equal) <br>\n",
    "!= (Not equal) <br>\n",
    "< (less than) <br> > (Greater than) <br>\n",
    "<= (Less than or equal) <br> >= (Greater than or equal) <br> <br>\n",
    "<b>Logical Operators</b>:Used to make decisions. <br>\n",
    "<i><font color=blue>Example:</font></i> <br>\n",
    "&& (and) <br>\n",
    "|| (or) <br>\n",
    "! (Not) <br> <br>\n",
    "<b>Assignment Operators</b>: Used in variables to assign value. <br>\n",
    "<i><font color=blue>Example:</font></i> <br>\n",
    "= (Assign) <br>\n",
    "+= (Add and assign) <br>\n",
    "-= (Subtract and assign) <br> <br>\n",
    "<b>String Operators</b>: Used to concetenate (combine) two strings. <br>\n",
    "<i><font color=blue>Example:</font></i> <br>+ (Concatenate)"
   ]
  },
  {
   "cell_type": "markdown",
   "id": "1127467b-2546-4058-9d9f-d0fbea6bf197",
   "metadata": {},
   "source": [
    "# Using Operators"
   ]
  },
  {
   "cell_type": "markdown",
   "id": "1faafe2e-2243-4ec5-903c-aef1db7978f7",
   "metadata": {},
   "source": [
    "***"
   ]
  },
  {
   "cell_type": "markdown",
   "id": "861c6655-2b9d-490a-abf3-5ce2acca2025",
   "metadata": {},
   "source": [
    "Operators are simple to use within variables. They can be used outside of variables as well, but lets start by using them inside variables. We will use the same process as above. We will define a variable and then print to the console. However, we will now utilize operators to make more complex variables. "
   ]
  },
  {
   "cell_type": "code",
   "execution_count": 5,
   "id": "31d53223-3978-4c8b-b53e-719af138df81",
   "metadata": {},
   "outputs": [],
   "source": [
    "let areaOfRectangle = 4*5;"
   ]
  },
  {
   "cell_type": "code",
   "execution_count": 6,
   "id": "d5de5a64-67e7-45bc-86ee-e938ca5b0d2d",
   "metadata": {},
   "outputs": [
    {
     "name": "stdout",
     "output_type": "stream",
     "text": [
      "20\n"
     ]
    }
   ],
   "source": [
    "console.log(areaOfRectangle);"
   ]
  },
  {
   "cell_type": "markdown",
   "id": "a19f929b-3140-44b0-ad8d-eade13f20521",
   "metadata": {},
   "source": [
    "We can use the concatenation (and the '+' operator) to make better pring statements in the console. Note the space between the colon and the last quotation mark:"
   ]
  },
  {
   "cell_type": "code",
   "execution_count": 7,
   "id": "197a60e7-0d73-4ece-8f64-af11c47f4d06",
   "metadata": {},
   "outputs": [],
   "source": [
    "let areaOfSquare = 7*7;"
   ]
  },
  {
   "cell_type": "code",
   "execution_count": 9,
   "id": "b735cbd6-81b0-498e-82fd-ea78285335fc",
   "metadata": {},
   "outputs": [
    {
     "name": "stdout",
     "output_type": "stream",
     "text": [
      "The are of a 7 inch square is: 49\n"
     ]
    }
   ],
   "source": [
    "console.log('The are of a 7 inch square is: ' + areaOfSquare);"
   ]
  },
  {
   "cell_type": "markdown",
   "id": "b652c396-f7c8-4048-8aa2-c1163eeb5c78",
   "metadata": {},
   "source": [
    "You can concatenate words too. However, lets examine what happens:"
   ]
  },
  {
   "cell_type": "code",
   "execution_count": 10,
   "id": "3b1b568d-09f7-4fba-8050-f0ac57f4b4e3",
   "metadata": {},
   "outputs": [],
   "source": [
    "let firstName = \"John\";\n",
    "let lastName = \"Doe\";"
   ]
  },
  {
   "cell_type": "code",
   "execution_count": 12,
   "id": "694d853e-bb95-41e2-8ebb-66cbf8af260b",
   "metadata": {},
   "outputs": [
    {
     "name": "stdout",
     "output_type": "stream",
     "text": [
      "His name is JohnDoe\n"
     ]
    }
   ],
   "source": [
    "console.log(\"His name is \" + firstName + lastName);"
   ]
  },
  {
   "cell_type": "markdown",
   "id": "c20528b3-7120-4a74-92e8-5bcbaeb5c839",
   "metadata": {},
   "source": [
    "We are missing a space between his first and last name. We can fix this by adding a blank space using an empty set of quotes. Make sure you put a space between the quotes."
   ]
  },
  {
   "cell_type": "code",
   "execution_count": 13,
   "id": "e830ff33-ac47-42dc-934b-47f9900566b8",
   "metadata": {},
   "outputs": [
    {
     "name": "stdout",
     "output_type": "stream",
     "text": [
      "His name is John Doe\n"
     ]
    }
   ],
   "source": [
    "console.log(\"His name is \" + firstName + \" \" + lastName);"
   ]
  },
  {
   "cell_type": "markdown",
   "id": "e047fbe7-6bdb-4d28-86f1-b305cea7ad26",
   "metadata": {},
   "source": [
    "We can also use operators on variables. For instance, we will use the equality operator to see if the 2 variables below are equal. It will return true or false:"
   ]
  },
  {
   "cell_type": "code",
   "execution_count": 14,
   "id": "b0abd68e-68b8-44a8-9d94-c40b8cc2a6bb",
   "metadata": {},
   "outputs": [],
   "source": [
    "let trainTicketValue = 5;\n",
    "let trainNumber = 4;"
   ]
  },
  {
   "cell_type": "code",
   "execution_count": 15,
   "id": "7707f8fc-f2e0-46ce-aadb-18d6ac007850",
   "metadata": {},
   "outputs": [
    {
     "name": "stdout",
     "output_type": "stream",
     "text": [
      "false\n"
     ]
    }
   ],
   "source": [
    "console.log(trainTicketValue == trainNumber);"
   ]
  },
  {
   "cell_type": "markdown",
   "id": "d54a5749-fd6b-4adf-a917-b54185fbdd34",
   "metadata": {},
   "source": [
    "# Changing Variable Assignments"
   ]
  },
  {
   "cell_type": "markdown",
   "id": "441d5e86-7710-4c04-b8fb-da3f8c8b0be0",
   "metadata": {},
   "source": [
    "***"
   ]
  },
  {
   "cell_type": "markdown",
   "id": "0757e0c5-02e6-4fdb-89b7-31b1b830f9bd",
   "metadata": {},
   "source": [
    "Variables defined with let and var can be changed. CONST variables cannot be changed. In the example below we set the variable toa value, then change it. Notice the output takes the last value. It does not mean that the variable was not the initial value, you just are printing the last value because the program is executing in a procedural step by step manner. Notice that when we mutate the variable we dont use the declaration keyword again. <b>NOTE</b>: In Jupyter, mutating (changing) a variable name will print it out. This is <b>NOT</b> the case in other IDE's. You will only see the output when logging to the console. "
   ]
  },
  {
   "cell_type": "code",
   "execution_count": 17,
   "id": "ca50dfba-a5c7-4786-8052-9315f11f5048",
   "metadata": {},
   "outputs": [
    {
     "data": {
      "text/plain": [
       "10"
      ]
     },
     "execution_count": 17,
     "metadata": {},
     "output_type": "execute_result"
    }
   ],
   "source": [
    "let numOfCows = 10;\n",
    "numOfCows = 5;\n",
    "numOfCows = 10;"
   ]
  },
  {
   "cell_type": "code",
   "execution_count": 18,
   "id": "a6a368a8-dfd1-4818-84c4-69dccae1919f",
   "metadata": {},
   "outputs": [
    {
     "name": "stdout",
     "output_type": "stream",
     "text": [
      "10\n"
     ]
    }
   ],
   "source": [
    "console.log(numOfCows);"
   ]
  },
  {
   "cell_type": "code",
   "execution_count": 50,
   "id": "0f108af9-8c19-419e-969d-e9a5039dbce8",
   "metadata": {},
   "outputs": [
    {
     "data": {
      "text/plain": [
       "'Im a crow'"
      ]
     },
     "execution_count": 50,
     "metadata": {},
     "output_type": "execute_result"
    }
   ],
   "source": [
    "let murderCrows = 5 + 5;\n",
    "murderCrows = 100000 * 7;\n",
    "murderCrows = \"Im a crow\";"
   ]
  },
  {
   "cell_type": "code",
   "execution_count": 51,
   "id": "73eb90b7-3dcb-4761-a209-d96d8b1def9b",
   "metadata": {},
   "outputs": [
    {
     "name": "stdout",
     "output_type": "stream",
     "text": [
      "Im a crow\n"
     ]
    }
   ],
   "source": [
    "console.log(murderCrows);"
   ]
  }
 ],
 "metadata": {
  "kernelspec": {
   "display_name": "JavaScript (Node.js)",
   "language": "javascript",
   "name": "javascript"
  },
  "language_info": {
   "file_extension": ".js",
   "mimetype": "application/javascript",
   "name": "javascript",
   "version": "20.8.1"
  }
 },
 "nbformat": 4,
 "nbformat_minor": 5
}
