{
 "cells": [
  {
   "cell_type": "markdown",
   "id": "21a3e0fd-c7bd-4abd-9953-00a86bd742fa",
   "metadata": {},
   "source": [
    "# console.log();"
   ]
  },
  {
   "cell_type": "markdown",
   "id": "c3c02378-c0b6-4079-bff8-5e7d20f0bd54",
   "metadata": {},
   "source": [
    "Prints a new line in the console."
   ]
  },
  {
   "cell_type": "markdown",
   "id": "d66c53ef-872a-4d22-b22c-328a6ed32893",
   "metadata": {},
   "source": [
    "Syntax: console.log(\"text or object\");\n",
    "\n",
    "Example: "
   ]
  },
  {
   "cell_type": "code",
   "execution_count": 1,
   "id": "2115cde1-a7b3-4633-9db7-941d3b99a3a9",
   "metadata": {},
   "outputs": [
    {
     "name": "stdout",
     "output_type": "stream",
     "text": [
      "Hello, world!\n"
     ]
    }
   ],
   "source": [
    "console.log(\"Hello, world!\");"
   ]
  },
  {
   "cell_type": "code",
   "execution_count": null,
   "id": "106061b3-87c2-4718-81e1-fc66435629c2",
   "metadata": {},
   "outputs": [],
   "source": []
  }
 ],
 "metadata": {
  "kernelspec": {
   "display_name": "JavaScript (Node.js)",
   "language": "javascript",
   "name": "javascript"
  },
  "language_info": {
   "file_extension": ".js",
   "mimetype": "application/javascript",
   "name": "javascript",
   "version": "20.8.1"
  }
 },
 "nbformat": 4,
 "nbformat_minor": 5
}
