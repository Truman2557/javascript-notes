{
 "cells": [
  {
   "cell_type": "markdown",
   "id": "1eed0a8d-2a92-4986-a22d-df4036f5ed69",
   "metadata": {},
   "source": [
    "# Conditional Statements In Javascript"
   ]
  },
  {
   "cell_type": "markdown",
   "id": "7fb88d39-e9a0-4d9d-bf46-46fbb26fa88f",
   "metadata": {},
   "source": [
    "***"
   ]
  },
  {
   "cell_type": "markdown",
   "id": "0bf20b42-78ac-450b-9a5c-b1447c483f0d",
   "metadata": {},
   "source": [
    "Documentation located <a href=\"https://developer.mozilla.org/en-US/docs/Learn/JavaScript/Building_blocks/conditionals\">here.</a> <br> <br>\n",
    "<b>Conditional Statements</b>: Conditional statements, also known as control flow statements, allow a program to make decisions and execute different blocks of code based on whether a certain condition is true of false. These conditions are evaluated to <i>boolean values</i>, which are either true or false. These conditionas are usually expressions that compare values using comparison operators (ex: ===, !=, <, >, <=, >=). The result of such expressions is a boolean value, indicating the truth or falsity of the condition. This, in turn, determines which block of code will be executed. "
   ]
  },
  {
   "cell_type": "markdown",
   "id": "ef7345d5-49e8-4b06-8af2-9ec14c5cf04b",
   "metadata": {},
   "source": [
    "# Truthy Vs. Falsy Values"
   ]
  },
  {
   "cell_type": "markdown",
   "id": "011b2f62-335b-4063-9223-015d5e90cb91",
   "metadata": {},
   "source": [
    "***"
   ]
  },
  {
   "cell_type": "markdown",
   "id": "bef694f7-3d48-4af2-bc48-0cb95094e594",
   "metadata": {},
   "source": [
    "In JavaScript, values are not only vategorized as true or false, but also as \"truthy\" or \"falsy\". This distinction is important when evaluating conditions in conditional statements. <br> <br>\n",
    "<b>Falsy Values:</b><br><br>\n",
    "<b>false:</b> The keyword false. <br>\n",
    "<b>0:</b> The number zero. <br>\n",
    "<b>\"\" (Empty String):</b> A string with no characters. <br>\n",
    "<b>null:</b> represents no value or no object. <br>\n",
    "<b>undefined:</b> Indicates that a variable has not been assigned a value. <br>\n",
    "<b>NaN:</b> Stands for \"Not a Number\". <br> <br>\n",
    "<font color=blue><i>Example:</i></font> <br> <br>"
   ]
  },
  {
   "cell_type": "code",
   "execution_count": 1,
   "id": "2f024e9f-e650-4e07-8007-6e34881c3e1e",
   "metadata": {},
   "outputs": [
    {
     "name": "stdout",
     "output_type": "stream",
     "text": [
      "0 is falsy\n"
     ]
    }
   ],
   "source": [
    "if (0) {\n",
    "    console.log(\"This wont print, 0 is falsy\");\n",
    "} else {\n",
    "    console.log(\"0 is falsy\");\n",
    "}\n",
    "\n",
    "if (null) {\n",
    "    console.log(\"This wont print, null is falsy\");\n",
    "}"
   ]
  },
  {
   "cell_type": "markdown",
   "id": "ffedd420-4bb3-448b-91ea-31e5dda1a024",
   "metadata": {},
   "source": [
    "<b>Truthy Values:</b> <br>\n",
    "Any value that is not falsy is considered truthy. This includes true, all numbers (other than 0), all strings (including those with whitespace), and all objects and arrays (even empty ones)."
   ]
  },
  {
   "cell_type": "code",
   "execution_count": 4,
   "id": "be954939-526f-4abf-b955-64012106644f",
   "metadata": {},
   "outputs": [
    {
     "name": "stdout",
     "output_type": "stream",
     "text": [
      "42 is truthy\n",
      "Non-empty string is truthy\n",
      "Whitespace-only string is also truthy\n",
      "An empty array is truthy\n",
      "An empty object is truthy\n"
     ]
    }
   ],
   "source": [
    "if (42) {\n",
    "    console.log(\"42 is truthy\");\n",
    "}\n",
    "\n",
    "if (\"Hello\") {\n",
    "    console.log(\"Non-empty string is truthy\");\n",
    "}\n",
    "\n",
    "if (\" \") {\n",
    "    console.log(\"Whitespace-only string is also truthy\");\n",
    "}\n",
    "\n",
    "if ([]) { \n",
    "    console.log(\"An empty array is truthy\");\n",
    "}\n",
    "\n",
    "if ({}) {\n",
    "    console.log(\"An empty object is truthy\");\n",
    "}"
   ]
  },
  {
   "cell_type": "markdown",
   "id": "0f4cf8fc-2a2e-4008-b9aa-b16e016f3d10",
   "metadata": {},
   "source": [
    "# If..Else Statements"
   ]
  },
  {
   "cell_type": "markdown",
   "id": "092a781c-51db-454e-86a7-c9a896a34018",
   "metadata": {},
   "source": [
    "***"
   ]
  },
  {
   "cell_type": "markdown",
   "id": "d41d4ec8-1e95-492a-9552-b670cf908d5e",
   "metadata": {},
   "source": [
    "An if..else statement will execute a statment if the specified condition is truthy. This is the most basic conditional statment, it gives your program a bit more flexibility and decision making. The steps to making an if statement are below: <br><br>\n",
    "1. keyword if followed by parenthesis\n",
    "2. a conditional to test in parenthesis, usually using comparison operators\n",
    "3. a set of curly braes, inside is the code that runs if true\n",
    "4. the else keyword\n",
    "5. another set of curly braces, inside is the code that runs if false\n",
    "<br> <br>\n",
    "<b>Note:</b> The else is optional. You can create just a basic if statement without an else if needed. <br> <br>\n",
    "<font color=blue><i>Syntax:</i></font>"
   ]
  },
  {
   "cell_type": "code",
   "execution_count": 5,
   "id": "c5d2d272-63da-43d7-9088-b9b6fe4ea840",
   "metadata": {},
   "outputs": [],
   "source": [
    "if ('condition') {\n",
    "    //code here runs if the condition is true\n",
    "}\n",
    "//code out here is OUTSIDE the if statment block of code. "
   ]
  },
  {
   "cell_type": "markdown",
   "id": "1a35ad9a-e1e9-4028-9d35-8eba93ecf80b",
   "metadata": {},
   "source": [
    "<font color=blue><i>Example:</i></font>"
   ]
  },
  {
   "cell_type": "code",
   "execution_count": 6,
   "id": "1b08d165-0c99-428e-9200-e87d4c1d9967",
   "metadata": {},
   "outputs": [
    {
     "name": "stdout",
     "output_type": "stream",
     "text": [
      "We are the same age\n"
     ]
    }
   ],
   "source": [
    "let myAge = 2;\n",
    "let yourAge = 2;\n",
    "\n",
    "if (myAge === yourAge){\n",
    "    console.log(\"We are the same age\");\n",
    "}"
   ]
  },
  {
   "cell_type": "markdown",
   "id": "d888597d-aaad-4615-885c-2ca14be1b7b4",
   "metadata": {},
   "source": [
    "<font color=blue><i>Syntax</i></font>"
   ]
  },
  {
   "cell_type": "code",
   "execution_count": 7,
   "id": "30017e85-b01f-49e5-b041-70bcae796a1b",
   "metadata": {},
   "outputs": [],
   "source": [
    "if ('condition'){\n",
    "    //Code here runs if the condition is true\n",
    "} else{\n",
    "    //If the condition is false, code here runs\n",
    "}"
   ]
  },
  {
   "cell_type": "markdown",
   "id": "a1ee4af5-8054-4ecc-a0bb-8f00af72b73a",
   "metadata": {},
   "source": [
    "<font color=blue><i>Example</i></font>"
   ]
  },
  {
   "cell_type": "code",
   "execution_count": 10,
   "id": "f718448c-8318-4d19-986f-e1afbda7319d",
   "metadata": {},
   "outputs": [
    {
     "name": "stdout",
     "output_type": "stream",
     "text": [
      "You have more peaches than apples.\n"
     ]
    }
   ],
   "source": [
    "let numbOfApples = 10;\n",
    "let numOfPeaches = 12;\n",
    "\n",
    "if (numbOfApples > numOfPeaches){\n",
    "    console.log(\"You have more apples than peaches.\");\n",
    "} else{\n",
    "    console.log(\"You have more peaches than apples.\");\n",
    "}"
   ]
  },
  {
   "cell_type": "code",
   "execution_count": 11,
   "id": "ba653bab-c2c3-4dd4-a33a-a013dcec9e47",
   "metadata": {},
   "outputs": [
    {
     "data": {
      "text/plain": [
       "5"
      ]
     },
     "execution_count": 11,
     "metadata": {},
     "output_type": "execute_result"
    }
   ],
   "source": [
    "let shoppingDone = false;\n",
    "let childsAllowance;\n",
    "\n",
    "if (shoppingDone === true){\n",
    "    childsAllowance = 10;\n",
    "} else{\n",
    "    childsAllowance = 5;\n",
    "}"
   ]
  },
  {
   "cell_type": "markdown",
   "id": "5897f7ee-a0c4-4129-b9ff-3423fe0c1425",
   "metadata": {},
   "source": [
    "# Else If"
   ]
  },
  {
   "cell_type": "markdown",
   "id": "8e5efe0a-d797-4bdc-86bf-9e8f8f9ad399",
   "metadata": {},
   "source": [
    "***"
   ]
  },
  {
   "cell_type": "markdown",
   "id": "f6db3e7d-6cb7-4295-bed0-fb457a3e7ec8",
   "metadata": {},
   "source": [
    "The last example provided us with two choices or outcomes, but what if we want more than two?<br> <br>\n",
    "There is a way to chain on extra choices/outcomes to your if..else using else if. Each extra choice requires an additional block to put in between if(){} and else{}. <br> <br>\n",
    "You can have as many different options in a conditional statment using else if. \n",
    "<font color=blue><i>Syntax:</i></font>"
   ]
  },
  {
   "cell_type": "code",
   "execution_count": 12,
   "id": "e8393ea8-4dbb-4c20-88c9-60c4f9b2c6d0",
   "metadata": {},
   "outputs": [],
   "source": [
    "if ('checks condition 1'){\n",
    "    //Code here runs if the condition is true.\n",
    "} else if ('checks condition 2') {\n",
    "    //Code here runs if the condition 1 is false and condition 2 is true.\n",
    "} else if ('checks condition 3') {\n",
    "    //Code here runs if the condition 2 is false and condition 3 is true.\n",
    "} else {\n",
    "    //Code here runs if all conditionals above are false.\n",
    "}"
   ]
  },
  {
   "cell_type": "markdown",
   "id": "b51b3e6c-2635-4934-8e9c-586f7e5bf424",
   "metadata": {},
   "source": [
    "<font color=blue><i>Example</i></font>"
   ]
  },
  {
   "cell_type": "code",
   "execution_count": 13,
   "id": "24e00580-705c-4280-a538-13c4dd8a22a6",
   "metadata": {},
   "outputs": [
    {
     "name": "stdout",
     "output_type": "stream",
     "text": [
      "Tome is not the same age as anyone\n"
     ]
    }
   ],
   "source": [
    "let tomsAge = 10;\n",
    "let sarahsAge = 12;\n",
    "let arisAge = 15;\n",
    "\n",
    "if (tomsAge === sarahsAge){\n",
    "    console.log(\"Tom and Sarah are the same age\");\n",
    "} else if (tomsAge === arisAge){\n",
    "    console.log(\"Tom and Ari are the same age\");\n",
    "} else{\n",
    "    console.log(\"Tome is not the same age as anyone\");\n",
    "}"
   ]
  },
  {
   "cell_type": "markdown",
   "id": "d53727b7-43fd-4580-90d8-a4f5f1c85ffd",
   "metadata": {},
   "source": [
    "# Combining Logical Operators with Conditionals"
   ]
  },
  {
   "cell_type": "markdown",
   "id": "193427cc-4053-4289-ad70-fd5e99c12a76",
   "metadata": {},
   "source": [
    "***"
   ]
  },
  {
   "cell_type": "markdown",
   "id": "a87af069-ccb4-4c13-9b09-1b226d9ac4b8",
   "metadata": {},
   "source": [
    "<b>Logical Operators:</b> Used to make decisions.<br>\n",
    "<font color=blue><i>Example:</i></font> <br>\n",
    "&& (and) <br>\n",
    "|| (or) <br>\n",
    "! (Not) <br> <br>\n",
    "We can combine logical operators with our conditional statements to make smarter programs. <br><br>\n",
    "<font color=blue><i>Example:</i></font>"
   ]
  },
  {
   "cell_type": "code",
   "execution_count": null,
   "id": "92855ab5-67a4-4b9e-b5a6-974c18eee0d2",
   "metadata": {},
   "outputs": [],
   "source": [
    "let tomAge = 10;\n",
    "let sarahAge = 12;\n",
    "let ariAge = 15;\n",
    "\n",
    "if (tomAge > 10 && sarahAge > 10 && ariAge > 10){\n",
    "    console.log(\"All of them are older than 10\");\n",
    "} else if (tomAge > 10 || sarahAge > 10 || ariAge > 10){\n",
    "    console.log(\"At least one of the mis older than 10\");\n",
    "} else{\n",
    "    console.log(\""
   ]
  }
 ],
 "metadata": {
  "kernelspec": {
   "display_name": "JavaScript (Node.js)",
   "language": "javascript",
   "name": "javascript"
  },
  "language_info": {
   "file_extension": ".js",
   "mimetype": "application/javascript",
   "name": "javascript",
   "version": "20.8.1"
  }
 },
 "nbformat": 4,
 "nbformat_minor": 5
}
