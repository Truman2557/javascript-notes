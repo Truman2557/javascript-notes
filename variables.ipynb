{
 "cells": [
  {
   "cell_type": "markdown",
   "id": "5586f657-824d-46f8-93ea-8376d3f8f48f",
   "metadata": {},
   "source": [
    "# Variables in Javascript"
   ]
  },
  {
   "cell_type": "markdown",
   "id": "e71e9b06-d11f-42d6-b65d-815faecdbc06",
   "metadata": {},
   "source": [
    "***"
   ]
  },
  {
   "cell_type": "markdown",
   "id": "662b1311-2a3d-4c39-b71a-8aaae8e0eb01",
   "metadata": {},
   "source": [
    "Documentation located <a href=\"https://www.w3schools.com/js/js_variables.asp\">Here</a>"
   ]
  },
  {
   "cell_type": "markdown",
   "id": "a5ba2388-e6cb-464a-ad6c-71100db6a74d",
   "metadata": {},
   "source": [
    "<b>Variables</b> : a containter for storing values. A variable has a name and contains a value. You \"Store\" a variable in memory and it allows you to access, modify, and manipulate that value throughout your program. Variables allow us to write programs in a generic manner, allow us to modify data without needing to modify the code structure. <br> <br>\n",
    "You can store many different data types in variables: Strings, Ints, booleans, floats, doubles, and more. "
   ]
  },
  {
   "cell_type": "markdown",
   "id": "e9d50404-cefe-4487-8176-a5d5dde7db8f",
   "metadata": {},
   "source": [
    "# Variable Declaration & Initialization"
   ]
  },
  {
   "cell_type": "markdown",
   "id": "d523cc2e-d5ca-46cf-8a88-2d38cb3e1c96",
   "metadata": {},
   "source": [
    "***"
   ]
  },
  {
   "cell_type": "markdown",
   "id": "f67bb920-362f-4086-a4c2-7b7ad1999485",
   "metadata": {},
   "source": [
    "Variables can be declared & initialized at the same time or seperately. In order to utilize the variable, both must happen. <br> <br>\n",
    "<b>Variable Declaration</b>: This is the first step to creating a variable. It tells your program that we want to create a variable. In this step the variable has no value. Must declare with var, let, or CONST keywords. Var is outdated, so we do not use it. You will see var used in legacy code as well as in code.org. <br> \n",
    "<i><font color=\"blue\">Example:</font></i> <br>\n",
    "let age; <br>\n",
    "var name; <br>\n",
    "CONST birthday;"
   ]
  },
  {
   "cell_type": "markdown",
   "id": "4eee2464-91ef-4e57-9b8c-07b10ff115bb",
   "metadata": {},
   "source": [
    "<b>Variable Initialization</b>: This is where you give a variable a value for the first time. Variables must be declared before initializing. <br>\n",
    "<i><font color=blue>Example:</font></i> <br>\n",
    "age = 25; <br> \n",
    "name = \"Cooper\"; <br>\n",
    "birthday = 2000;"
   ]
  },
  {
   "cell_type": "markdown",
   "id": "de7fcb93-a8e2-4712-9092-94805010608d",
   "metadata": {},
   "source": [
    "<b>Variable Definition</b>: Variables can be declared and initialized at the same time. We call this <font color=red>\"Variable Definition\".</font> <br>\n",
    "<i><font color=blue>Example:</font></i> <br>\n",
    "let age = 20; <br>\n",
    "var name = \"Cooper\"; <br>\n",
    "CONST birthday = 2002; <br> \n",
    "The equals sign is known as the <font color=red>assignment operator</font> in most programming languages. You must use this to create variables. "
   ]
  },
  {
   "cell_type": "markdown",
   "id": "78207939-34da-4d61-ae9d-947493260593",
   "metadata": {},
   "source": [
    "# Naming Variables"
   ]
  },
  {
   "cell_type": "markdown",
   "id": "c4a2e465-8396-4a4f-b918-3fa90a115550",
   "metadata": {},
   "source": [
    "***"
   ]
  },
  {
   "cell_type": "markdown",
   "id": "621bd48f-cdd1-4996-a1bf-178d34b9ef6e",
   "metadata": {},
   "source": [
    "Variable names are extremely important. Naming conventions vary between languages. Here are some tips: <br> <br>\n",
    "1. Use descriptive names that match the purpose of the variable.\n",
    "2. Use CamelCase when writing multi-word variables (Javascript best practice)\n",
    "3. Avoid symbols and \"reserved\" words, such as: let, for, if, etc. <br>\n",
    "   <font color=red>Never put spaces in variables. A variable can never just be an integer</font> <br> <br>\n",
    "\n",
    "<i><font color=blue>Good Examples:</font></i> <br>\n",
    "let firstName = \"Thomas\"; <br>\n",
    "let numberOfLives = 9; <br>\n",
    "CONST temp = 98; <br>\n",
    "let messageOfTheDay = \"Hello there, welcome to CSP\"; <br>\n",
    "<i><font color=blue>Bad Examples:</font></i> <br>\n",
    "let 2 = 9; <br>\n",
    "let N!M@ = \"john\"; <br>\n",
    "let birthday month = \"December\";"
   ]
  }
 ],
 "metadata": {
  "kernelspec": {
   "display_name": "JavaScript (Node.js)",
   "language": "javascript",
   "name": "javascript"
  },
  "language_info": {
   "file_extension": ".js",
   "mimetype": "application/javascript",
   "name": "javascript",
   "version": "20.8.1"
  }
 },
 "nbformat": 4,
 "nbformat_minor": 5
}
